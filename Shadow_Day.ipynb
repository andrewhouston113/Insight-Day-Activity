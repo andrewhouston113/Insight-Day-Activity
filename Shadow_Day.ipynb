{
  "cells": [
    {
      "cell_type": "code",
      "execution_count": null,
      "metadata": {
        "id": "GnKo88nhqGWc"
      },
      "outputs": [],
      "source": [
        "import pandas as pd\n",
        "import matplotlib.pyplot as plt\n",
        "import seaborn as sns\n",
        "\n",
        "# Step 1: Load dataset (replace with your dataset loading logic)\n",
        "url = 'https://gist.githubusercontent.com/ktisha/c21e73a1bd1700294ef790c56c8aec1f/raw/819b69b5736821ccee93d05b51de0510bea00294/pima-indians-diabetes.csv'\n",
        "names = ['Pregnancies', 'Glucose', 'BloodPressure', 'SkinThickness', 'Insulin', 'BMI', 'DiabetesPedigreeFunction', 'Age', 'Outcome']\n",
        "df = pd.read_csv(url, names=names, header=8)"
      ]
    },
    {
      "cell_type": "code",
      "execution_count": null,
      "metadata": {
        "id": "ovuq4yCpq24j"
      },
      "outputs": [],
      "source": [
        "# Step 2: Explore dataset\n",
        "print(df.head())  # Display first few rows of the dataset\n",
        "print(df.info())  # Display dataset information"
      ]
    },
    {
      "cell_type": "code",
      "execution_count": null,
      "metadata": {
        "colab": {
          "base_uri": "https://localhost:8080/",
          "height": 607
        },
        "id": "2mo-lZ3Vq4Fi",
        "outputId": "c4019674-0a11-48c7-eb32-04aa7cf63369"
      },
      "outputs": [],
      "source": [
        "# Step 3: Data visualization\n",
        "plt.figure(figsize=(12, 6))\n",
        "\n",
        "plt.subplot(1, 2, 1)\n",
        "sns.histplot(df['Glucose'], bins=20, kde=True, color='blue')\n",
        "plt.title('Distribution of Glucose Levels')\n",
        "\n",
        "plt.subplot(1, 2, 2)\n",
        "sns.boxplot(x='Outcome', y='BMI', data=df)\n",
        "plt.title('BMI Distribution by Diabetes Outcome')\n",
        "\n",
        "plt.tight_layout()\n",
        "plt.show()"
      ]
    },
    {
      "cell_type": "code",
      "execution_count": null,
      "metadata": {
        "colab": {
          "base_uri": "https://localhost:8080/"
        },
        "id": "X_txdEeyq5z9",
        "outputId": "2397970f-6d6a-46a6-ba70-98044a0b425a"
      },
      "outputs": [],
      "source": [
        "# Step 4: Basic statistics\n",
        "print(\"Mean Glucose level:\", df['Glucose'].mean())\n",
        "print(\"Median Age:\", df['Age'].median())\n",
        "print(\"Correlation between Glucose and BMI:\")\n",
        "print(df[['Glucose', 'BMI']].corr())"
      ]
    },
    {
      "cell_type": "code",
      "execution_count": null,
      "metadata": {
        "id": "NaQ6Hm6Vq6lT"
      },
      "outputs": [],
      "source": [
        "# Step 5: Optional - Predictive modeling (Logistic Regression example)\n",
        "from sklearn.model_selection import train_test_split\n",
        "from sklearn.linear_model import LogisticRegression\n",
        "from sklearn.metrics import accuracy_score, confusion_matrix"
      ]
    },
    {
      "cell_type": "code",
      "execution_count": null,
      "metadata": {
        "id": "eoWZgmjPq7c6"
      },
      "outputs": [],
      "source": [
        "# Prepare data\n",
        "X = df.drop('Outcome', axis=1)\n",
        "y = df['Outcome']"
      ]
    },
    {
      "cell_type": "code",
      "execution_count": null,
      "metadata": {
        "id": "ImbfnAzVq8RN"
      },
      "outputs": [],
      "source": [
        "# Split data into training and testing sets\n",
        "X_train, X_test, y_train, y_test = train_test_split(X, y, test_size=0.2, random_state=42)"
      ]
    },
    {
      "cell_type": "code",
      "execution_count": null,
      "metadata": {
        "colab": {
          "base_uri": "https://localhost:8080/",
          "height": 75
        },
        "id": "uqjgaf78q9tb",
        "outputId": "73c76953-df5a-45de-c650-25d0589b8d26"
      },
      "outputs": [],
      "source": [
        "# Train Logistic Regression model\n",
        "model = LogisticRegression(max_iter=1000)\n",
        "model.fit(X_train, y_train)"
      ]
    },
    {
      "cell_type": "code",
      "execution_count": null,
      "metadata": {
        "id": "t6Ztwtmzq-kE"
      },
      "outputs": [],
      "source": [
        "# Predict on test set\n",
        "y_pred = model.predict(X_test)"
      ]
    },
    {
      "cell_type": "code",
      "execution_count": null,
      "metadata": {
        "colab": {
          "base_uri": "https://localhost:8080/"
        },
        "id": "lzxUNKM5q_YS",
        "outputId": "3598a979-029d-4f2c-c55c-8078fe94467e"
      },
      "outputs": [],
      "source": [
        "# Evaluate model\n",
        "accuracy = accuracy_score(y_test, y_pred)\n",
        "conf_matrix = confusion_matrix(y_test, y_pred)\n",
        "print(f\"Accuracy: {accuracy}\")\n",
        "print(\"Confusion Matrix:\")\n",
        "print(conf_matrix)"
      ]
    },
    {
      "cell_type": "code",
      "execution_count": null,
      "metadata": {
        "colab": {
          "base_uri": "https://localhost:8080/",
          "height": 564
        },
        "id": "MIjPn3KuqfDc",
        "outputId": "c9058804-412e-4fb5-b327-765c4d85b23b"
      },
      "outputs": [],
      "source": [
        "# Visualize confusion matrix using Seaborn heatmap\n",
        "plt.figure(figsize=(8, 6))\n",
        "sns.heatmap(conf_matrix, annot=True, fmt='d', cmap='Blues', xticklabels=['No Diabetes', 'Diabetes'], yticklabels=['No Diabetes', 'Diabetes'])\n",
        "plt.xlabel('Predicted')\n",
        "plt.ylabel('Actual')\n",
        "plt.title('Confusion Matrix')\n",
        "plt.show()"
      ]
    }
  ],
  "metadata": {
    "colab": {
      "provenance": []
    },
    "kernelspec": {
      "display_name": "Python 3",
      "name": "python3"
    },
    "language_info": {
      "name": "python"
    }
  },
  "nbformat": 4,
  "nbformat_minor": 0
}
